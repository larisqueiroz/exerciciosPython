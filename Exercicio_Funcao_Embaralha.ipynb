{
 "cells": [
  {
   "cell_type": "markdown",
   "id": "a4a6c75f",
   "metadata": {},
   "source": [
    "Embaralha palavra. Construa uma função que receba uma string como parâmetro e devolva outra string com os carateres embaralhados. Por exemplo: se função receber a palavra python, pode retornar npthyo, ophtyn ou qualquer outra combinação possível, de forma aleatória. Padronize em sua função que todos os caracteres serão devolvidos em caixa alta ou caixa baixa, independentemente de como foram digitados."
   ]
  },
  {
   "cell_type": "code",
   "execution_count": 36,
   "id": "af1c036c",
   "metadata": {},
   "outputs": [
    {
     "name": "stdout",
     "output_type": "stream",
     "text": [
      "ellho\n"
     ]
    }
   ],
   "source": [
    "from random import shuffle\n",
    "\n",
    "def embaralha(palavra):\n",
    "    \n",
    "    lista = []\n",
    "    for letra in palavra:\n",
    "        lista.append(letra.lower())\n",
    "        \n",
    "    shuffle(lista)\n",
    "    \n",
    "    string = ''\n",
    "    for i in lista:\n",
    "        string = string + i\n",
    "        \n",
    "    return string\n",
    "    \n",
    "resultado = embaralha('hEllO')\n",
    "\n",
    "print(resultado)"
   ]
  },
  {
   "cell_type": "code",
   "execution_count": null,
   "id": "7ee391de",
   "metadata": {},
   "outputs": [],
   "source": []
  }
 ],
 "metadata": {
  "kernelspec": {
   "display_name": "Python 3",
   "language": "python",
   "name": "python3"
  },
  "language_info": {
   "codemirror_mode": {
    "name": "ipython",
    "version": 3
   },
   "file_extension": ".py",
   "mimetype": "text/x-python",
   "name": "python",
   "nbconvert_exporter": "python",
   "pygments_lexer": "ipython3",
   "version": "3.8.8"
  }
 },
 "nbformat": 4,
 "nbformat_minor": 5
}
