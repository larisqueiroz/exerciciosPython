{
 "cells": [
  {
   "cell_type": "markdown",
   "id": "77d206b7",
   "metadata": {},
   "source": [
    "Data com mês por extenso. Construa uma função que receba uma data no formato DD/MM/AAAA e devolva uma string no formato D de mesPorExtenso de AAAA. Opcionalmente, valide a data e retorne NULL caso a data seja inválida."
   ]
  },
  {
   "cell_type": "code",
   "execution_count": 4,
   "id": "fe16de28",
   "metadata": {},
   "outputs": [
    {
     "name": "stdout",
     "output_type": "stream",
     "text": [
      "05 de outubro de 2021\n"
     ]
    }
   ],
   "source": [
    "def mesPorExtenso(data):\n",
    "    \n",
    "    meses = ['janeiro', 'fevereiro', 'março', 'abril', 'maio', 'junho', 'julho', 'agosto', 'setembro', 'outubro',\\\n",
    "            'novembro', 'dezembro']\n",
    "    \n",
    "    dia, mes, ano = data.split('/')\n",
    "    \n",
    "    if (int(mes) < 1 or int(mes) > 12) or (int(dia) < 1 or int(dia) > 31):\n",
    "        return None\n",
    "    \n",
    "    if mes == 12:\n",
    "        final_mes = 11\n",
    "    else:\n",
    "        final_mes = int(mes) - 1\n",
    "    \n",
    "    return f'{dia} de {meses[final_mes]} de {ano}'\n",
    "        \n",
    "    \n",
    "resultado = mesPorExtenso('05/10/2021')\n",
    "print(resultado)"
   ]
  },
  {
   "cell_type": "code",
   "execution_count": null,
   "id": "a176220e",
   "metadata": {},
   "outputs": [],
   "source": []
  }
 ],
 "metadata": {
  "kernelspec": {
   "display_name": "Python 3",
   "language": "python",
   "name": "python3"
  },
  "language_info": {
   "codemirror_mode": {
    "name": "ipython",
    "version": 3
   },
   "file_extension": ".py",
   "mimetype": "text/x-python",
   "name": "python",
   "nbconvert_exporter": "python",
   "pygments_lexer": "ipython3",
   "version": "3.8.8"
  }
 },
 "nbformat": 4,
 "nbformat_minor": 5
}
