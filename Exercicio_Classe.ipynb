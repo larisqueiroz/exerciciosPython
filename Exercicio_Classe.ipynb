{
 "cells": [
  {
   "cell_type": "markdown",
   "id": "adca050d",
   "metadata": {},
   "source": [
    "Classe Bomba de Combustível: Faça um programa completo utilizando classes e métodos que:\n",
    "\n",
    "a. Possua uma classe chamada bombaCombustível, com no mínimo esses atributos:\\\n",
    "i. tipoCombustivel.\\\n",
    "ii. valorLitro\\\n",
    "iii. quantidadeCombustivel\\\n",
    "\\\n",
    "b. Possua no mínimo esses métodos:\\\n",
    "i. abastecerPorValor( ) – método onde é informado o valor a ser abastecido e mostra a quantidade de litros que foi colocada no veículo\\\n",
    "ii. abastecerPorLitro( ) – método onde é informado a quantidade em litros de combustível e mostra o valor a ser pago pelo cliente.\\\n",
    "iii. alterarValor( ) – altera o valor do litro do combustível.\\\n",
    "iv. alterarCombustivel( ) – altera o tipo do combustível.\\\n",
    "v. alterarQuantidadeCombustivel( ) – altera a quantidade de combustível restante na bomba.\\\n",
    "OBS: Sempre que acontecer um abastecimento é necessário atualizar a quantidade de combustível total na bomba."
   ]
  },
  {
   "cell_type": "code",
   "execution_count": 1,
   "id": "77adb3b5",
   "metadata": {},
   "outputs": [],
   "source": [
    "class BombadeCombustivel:\n",
    "    \n",
    "    def __init__(self, tipoCombustivel ='', valorLitro= 0.0, quantidadeCombustivel = 0):\n",
    "        self.tipoCombustivel = tipoCombustivel\n",
    "        self.valorLitro = valorLitro\n",
    "        self.quantidadeCombustivel = quantidadeCombustivel\n",
    "        \n",
    "    def abastecerPorValor(self, valorAbastecer):\n",
    "        abastecimento_p_valor = 0.0\n",
    "        abastecimento_p_valor = valorAbastecer/self.valorLitro\n",
    "        \n",
    "        self.quantidadeCombustivel = self.quantidadeCombustivel + abastecimento_p_valor\n",
    "        \n",
    "        print(f'A quantidade abastecida de litros foi {abastecimento_p_valor} L\\n')\n",
    "        \n",
    "    def abastecerPorLitro(self, qtdLitros):\n",
    "        abastecimento_preco = 0\n",
    "        abastecimento_preco = qtdLitros * self.valorLitro\n",
    "        \n",
    "        self.quantidadeCombustivel = self.quantidadeCombustivel + qtdLitros\n",
    "        \n",
    "        print(f'O valor a ser pago é R$ {abastecimento_preco},00\\n')\n",
    "        \n",
    "    def alterarValor(self, novo_preco):\n",
    "        self.valorLitro = novo_preco\n",
    "        \n",
    "        print(f'O novo preço por litro é R$ {novo_preco},00\\n')\n",
    "        \n",
    "    def alterarCombustivel(self, tipo):\n",
    "        self.tipoCombustivel = tipo\n",
    "        \n",
    "        print(f'Tipo de combustível alterado para {self.tipoCombustivel}\\n')\n",
    "        \n",
    "    def alterarQuantidadeCombustivel(self, nova_quantidade):\n",
    "        \n",
    "        self.quantidadeCombustivel = nova_quantidade\n",
    "        \n",
    "        print(f'A nova quantidade restante de litros é {self.quantidadeCombustivel} L\\n')"
   ]
  },
  {
   "cell_type": "code",
   "execution_count": 8,
   "id": "a5e4ced4",
   "metadata": {},
   "outputs": [
    {
     "name": "stdout",
     "output_type": "stream",
     "text": [
      "A quantidade abastecida de litros foi 5.0 L\n",
      "\n"
     ]
    }
   ],
   "source": [
    "bomba = BombadeCombustivel('gasolina', 4, 1)\n",
    "bomba.abastecerPorValor(20)"
   ]
  },
  {
   "cell_type": "code",
   "execution_count": 10,
   "id": "9d7d072e",
   "metadata": {},
   "outputs": [
    {
     "name": "stdout",
     "output_type": "stream",
     "text": [
      "O valor a ser pago é R$ 40,00\n",
      "\n"
     ]
    }
   ],
   "source": [
    "bomba.abastecerPorLitro(10)"
   ]
  },
  {
   "cell_type": "code",
   "execution_count": 11,
   "id": "04dea786",
   "metadata": {},
   "outputs": [
    {
     "name": "stdout",
     "output_type": "stream",
     "text": [
      "O novo preço por litro é R$ 6,00\n",
      "\n"
     ]
    }
   ],
   "source": [
    "bomba.alterarValor(6)"
   ]
  },
  {
   "cell_type": "code",
   "execution_count": 12,
   "id": "64a49f99",
   "metadata": {},
   "outputs": [
    {
     "name": "stdout",
     "output_type": "stream",
     "text": [
      "Tipo de combustível alterado para alcool\n",
      "\n"
     ]
    }
   ],
   "source": [
    "bomba.alterarCombustivel('alcool')"
   ]
  },
  {
   "cell_type": "code",
   "execution_count": 13,
   "id": "3d5c2a13",
   "metadata": {},
   "outputs": [
    {
     "name": "stdout",
     "output_type": "stream",
     "text": [
      "A nova quantidade restante de litros é 10 L\n",
      "\n"
     ]
    }
   ],
   "source": [
    "bomba.alterarQuantidadeCombustivel(10)"
   ]
  },
  {
   "cell_type": "code",
   "execution_count": null,
   "id": "7ed1eb5a",
   "metadata": {},
   "outputs": [],
   "source": []
  }
 ],
 "metadata": {
  "kernelspec": {
   "display_name": "Python 3",
   "language": "python",
   "name": "python3"
  },
  "language_info": {
   "codemirror_mode": {
    "name": "ipython",
    "version": 3
   },
   "file_extension": ".py",
   "mimetype": "text/x-python",
   "name": "python",
   "nbconvert_exporter": "python",
   "pygments_lexer": "ipython3",
   "version": "3.8.8"
  }
 },
 "nbformat": 4,
 "nbformat_minor": 5
}
